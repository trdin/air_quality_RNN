{
 "cells": [
  {
   "cell_type": "code",
   "execution_count": 1,
   "metadata": {},
   "outputs": [],
   "source": [
    "from flask import Flask, request, jsonify\n",
    "import joblib\n",
    "import numpy as np\n",
    "import pandas as pd\n",
    "import tensorflow as tf\n"
   ]
  },
  {
   "cell_type": "code",
   "execution_count": 2,
   "metadata": {},
   "outputs": [],
   "source": [
    "model = tf.keras.models.load_model('best_model.h5')\n",
    "pm_10_scaler = joblib.load('pm10_scaler.joblib')\n",
    "other_scaler = joblib.load('other_scaler.joblib')\n"
   ]
  },
  {
   "cell_type": "code",
   "execution_count": 3,
   "metadata": {},
   "outputs": [],
   "source": [
    "def new_variables(all_data):\n",
    "    all_data['NO2_PM2.5_Interact'] = all_data['NO2'] * all_data['PM2.5']\n",
    "    all_data['Day'] = all_data['Date'].dt.day\n",
    "    all_data['Month'] = all_data['Date'].dt.month\n",
    "    all_data['Hour'] = all_data['Date'].dt.hour\n",
    "    all_data['Day_of_Week'] = all_data['Date'].dt.dayofweek\n",
    "    all_data['Hour_NO2_Interaction'] = all_data['Hour'] * all_data['NO2']\n",
    "    all_data['Hour_PM2.5_Interaction'] = all_data['Hour'] * all_data['PM2.5']\n",
    "    return all_data"
   ]
  },
  {
   "cell_type": "code",
   "execution_count": 4,
   "metadata": {},
   "outputs": [],
   "source": [
    "def create_multivariate_dataset_with_steps(time_series, look_back=1, step=1):\n",
    "    X, y = [], []\n",
    "    for i in range(0, len(time_series) - look_back, step):\n",
    "        X.append(time_series[i:(i + look_back), :])\n",
    "        y.append(time_series[i + look_back, 0]) \n",
    "    return np.array(X), np.array(y)\n"
   ]
  },
  {
   "cell_type": "code",
   "execution_count": 5,
   "metadata": {},
   "outputs": [],
   "source": [
    "def vaja6_predict(data):\n",
    "    try:\n",
    "        required_features = ['Date','Latitude', 'Longitude', 'Altitude', 'NO2', 'PM2.5', 'O3', 'PM10']\n",
    "        for obj in data:\n",
    "            for feature in required_features:\n",
    "                if feature not in obj:\n",
    "                    return {'error': f'Missing feature: {feature}'}, 400\n",
    "\n",
    "\n",
    "        data = pd.DataFrame(data)\n",
    "        data['Date'] = pd.to_datetime(data['Date'])\n",
    "        data = data.sort_values(by=['Date'])\n",
    "\n",
    "        data = new_variables(data)\n",
    "\n",
    "        right_skew_columns = [\"NO2\", \"PM2.5\", \"NO2_PM2.5_Interact\", \"Hour_NO2_Interaction\", \"Hour_PM2.5_Interaction\"]\n",
    "        for col in right_skew_columns:\n",
    "            data[col] = np.log(data[col]+1 )\n",
    "\n",
    "        selected_features = ['PM2.5', 'NO2_PM2.5_Interact', 'Hour_PM2.5_Interaction', 'NO2', 'Hour_NO2_Interaction', 'Day', 'Month']\n",
    "\n",
    "        learn_features = data[list(selected_features) + ['PM10']]\n",
    "        learn_features = learn_features.values\n",
    "\n",
    "        \n",
    "\n",
    "        pm10 = np.array(learn_features[:,7])\n",
    "    \n",
    "        pm10_normalized = pm_10_scaler.transform(pm10.reshape(-1, 1))\n",
    "\n",
    "        other = np.array(learn_features[:,:7])\n",
    "        other_normalized = other_scaler.transform(other)\n",
    "\n",
    "\n",
    "        normalized_data = np.column_stack([pm10_normalized, other_normalized])\n",
    "\n",
    "        X_train = normalized_data   \t\n",
    "        look_back = 48\n",
    "        step = 1\n",
    "\n",
    "        #X_train, y_train = create_multivariate_dataset_with_steps(normalized_data, look_back, step)\n",
    "        #X_test, y_test = create_multivariate_dataset_with_steps(test_normalized, look_back, step)\n",
    "\n",
    "        print(X_train.shape)\n",
    "\n",
    "        X_train = X_train.reshape(1, X_train.shape[1], X_train.shape[0])\n",
    "       # X_test = X_test.reshape(X_test.shape[0], X_test.shape[2], X_test.shape[1])\n",
    "        \n",
    "        \n",
    "        \n",
    "\n",
    "        \"\"\" target_feature = 'PM10'\n",
    "        pm10_series = np.array(data[target_feature].values.reshape(-1, 1))\n",
    "\n",
    "        pm10_series = pm_10_scaler.transform(pm10_series) \"\"\"\n",
    "\n",
    "        prediction = model.predict(X_train)\n",
    "        prediction =  pm_10_scaler.inverse_transform(prediction)\n",
    "        \n",
    "\n",
    "        return {'prediction': prediction.tolist()}\n",
    "    except Exception as e:\n",
    "        return {'error': str(e)}, 400"
   ]
  },
  {
   "cell_type": "code",
   "execution_count": 6,
   "metadata": {},
   "outputs": [
    {
     "name": "stdout",
     "output_type": "stream",
     "text": [
      " * Serving Flask app '__main__'\n",
      " * Debug mode: off\n"
     ]
    },
    {
     "name": "stderr",
     "output_type": "stream",
     "text": [
      "WARNING: This is a development server. Do not use it in a production deployment. Use a production WSGI server instead.\n",
      " * Running on http://localhost:123\n",
      "Press CTRL+C to quit\n"
     ]
    },
    {
     "name": "stdout",
     "output_type": "stream",
     "text": [
      "(48, 8)\n",
      "1/1 [==============================] - 2s 2s/step\n"
     ]
    },
    {
     "name": "stderr",
     "output_type": "stream",
     "text": [
      "127.0.0.1 - - [23/Jan/2024 15:15:09] \"POST /predict HTTP/1.1\" 200 -\n"
     ]
    },
    {
     "name": "stdout",
     "output_type": "stream",
     "text": [
      "(48, 8)\n",
      "1/1 [==============================] - 0s 66ms/step\n"
     ]
    },
    {
     "name": "stderr",
     "output_type": "stream",
     "text": [
      "127.0.0.1 - - [23/Jan/2024 15:15:15] \"POST /predict HTTP/1.1\" 200 -\n"
     ]
    },
    {
     "name": "stdout",
     "output_type": "stream",
     "text": [
      "(48, 8)\n",
      "1/1 [==============================] - 0s 98ms/step\n"
     ]
    },
    {
     "name": "stderr",
     "output_type": "stream",
     "text": [
      "127.0.0.1 - - [23/Jan/2024 15:15:20] \"POST /predict HTTP/1.1\" 200 -\n"
     ]
    }
   ],
   "source": [
    "app = Flask(__name__)\n",
    "\n",
    "\n",
    "@app.route('/predict', methods=['POST'])\n",
    "def predict_naloga6():\n",
    "    data = request.get_json()\n",
    "    result = vaja6_predict(data)\n",
    "    return jsonify(result)\n",
    "\n",
    "\n",
    "if __name__ == '__main__':\n",
    "    app.run(host='0.0.0.0', port=123)"
   ]
  }
 ],
 "metadata": {
  "kernelspec": {
   "display_name": "tensor2",
   "language": "python",
   "name": "python3"
  },
  "language_info": {
   "codemirror_mode": {
    "name": "ipython",
    "version": 3
   },
   "file_extension": ".py",
   "mimetype": "text/x-python",
   "name": "python",
   "nbconvert_exporter": "python",
   "pygments_lexer": "ipython3",
   "version": "3.10.13"
  }
 },
 "nbformat": 4,
 "nbformat_minor": 2
}
