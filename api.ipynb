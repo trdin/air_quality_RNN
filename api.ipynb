{
 "cells": [
  {
   "cell_type": "code",
   "execution_count": 19,
   "metadata": {},
   "outputs": [],
   "source": [
    "from flask import Flask, request, jsonify\n",
    "import joblib\n",
    "import numpy as np\n",
    "import pandas as pd\n",
    "import tensorflow as tf\n",
    "import requests\n"
   ]
  },
  {
   "cell_type": "code",
   "execution_count": 20,
   "metadata": {},
   "outputs": [],
   "source": [
    "model = tf.keras.models.load_model('best_model_final.h5')\n",
    "pm_10_scaler = joblib.load('pm10_scaler.joblib')\n",
    "other_scaler = joblib.load('other_scaler.joblib')\n"
   ]
  },
  {
   "cell_type": "code",
   "execution_count": 21,
   "metadata": {},
   "outputs": [],
   "source": [
    "def weather_data(lat, lon, start_date, end_date):\n",
    "  start_date = start_date.strftime('%Y-%m-%d')\n",
    "  end_date = end_date.strftime('%Y-%m-%d')\n",
    "\n",
    "  base_url = \"https://archive-api.open-meteo.com/v1/archive\"\n",
    "  params = {\n",
    "    \"timezone\": \"GMT\",\n",
    "    \"latitude\": lat,\n",
    "    \"longitude\": lon,\n",
    "    \"start_date\": start_date,\n",
    "    \"end_date\": end_date,\n",
    "    \"hourly\": [\"temperature_2m\", \"relative_humidity_2m\", \"precipitation\", \"rain\", \"weather_code\", \"wind_speed_10m\", \"soil_temperature_100_to_255cm\"],\n",
    "  }\n",
    "\n",
    "  response = requests.get(base_url, params=params)\n",
    "  data = response.json()\n",
    "\n",
    "\n",
    "  df = pd.DataFrame(data['hourly'])\n",
    "  df['Date'] = pd.to_datetime(df['time'], format='%Y-%m-%dT%H:%M')\n",
    "  df['Date'] = df['Date'].dt.tz_localize('UTC')\n",
    "  df['Date_Hour'] = df['Date'].dt.floor('H')\n",
    "  df.drop(columns=['time', 'Date'], inplace=True)\n",
    "\n",
    "\n",
    "\n",
    "\n",
    "  return df"
   ]
  },
  {
   "cell_type": "code",
   "execution_count": 22,
   "metadata": {},
   "outputs": [],
   "source": [
    "def new_variables(all_data):\n",
    "    all_data['NO2_PM2.5_Interact'] = all_data['NO2'] * all_data['PM2.5']\n",
    "    all_data['Day'] = all_data['Date'].dt.day\n",
    "    all_data['Month'] = all_data['Date'].dt.month\n",
    "    all_data['Hour'] = all_data['Date'].dt.hour\n",
    "    all_data['Day_of_Week'] = all_data['Date'].dt.dayofweek\n",
    "    all_data['Hour_NO2_Interaction'] = all_data['Hour'] * all_data['NO2']\n",
    "    all_data['Hour_PM2.5_Interaction'] = all_data['Hour'] * all_data['PM2.5']\n",
    "\n",
    "    weather_df = weather_data(all_data['Latitude'].iloc[0], all_data['Longitude'].iloc[0], all_data['Date'].iloc[0], all_data['Date'].iloc[-1])\n",
    "    all_data['Date_Hour'] = all_data['Date'].dt.floor('H')\n",
    "    merged_data = pd.merge(all_data, weather_df, on='Date_Hour', how='left')\n",
    "    merged_data.drop(columns=['Date_Hour'], inplace=True)\n",
    "    all_data = merged_data.copy()\n",
    "\n",
    "    all_data['relative_humidity_NO2_Interaction'] = all_data['relative_humidity_2m'] * all_data['NO2']\n",
    "    all_data['relative_humidity_PM2.5_Interaction'] = all_data['relative_humidity_2m'] * all_data['PM2.5']\n",
    "    return all_data"
   ]
  },
  {
   "cell_type": "code",
   "execution_count": 23,
   "metadata": {},
   "outputs": [],
   "source": [
    "def predict(data):\n",
    "    try:\n",
    "        required_features = ['Date','Latitude', 'Longitude', 'Altitude', 'NO2', 'PM2.5', 'O3', 'PM10']\n",
    "        for obj in data:\n",
    "            for feature in required_features:\n",
    "                if feature not in obj:\n",
    "                    return {'error': f'Missing feature: {feature}'}, 400\n",
    "\n",
    "\n",
    "        data = pd.DataFrame(data)\n",
    "        data['Date'] = pd.to_datetime(data['Date'])\n",
    "        data = data.sort_values(by=['Date'])\n",
    "\n",
    "        data = new_variables(data)\n",
    "\n",
    "        left_skew_columns = [\"relative_humidity_2m\", \"soil_temperature_100_to_255cm\"]\n",
    "        for col in left_skew_columns:\n",
    "            data[col] = np.square(data[col])\n",
    "\n",
    "        right_skew_columns = [\"NO2\", \"PM2.5\", \"NO2_PM2.5_Interact\", \"Hour_NO2_Interaction\", \"Hour_PM2.5_Interaction\", \"precipitation\", \"rain\", \"wind_speed_10m\", \"relative_humidity_NO2_Interaction\", \"relative_humidity_PM2.5_Interaction\"]\n",
    "        for col in right_skew_columns:\n",
    "            data[col] = np.log(data[col]+1 )\n",
    "\n",
    "\n",
    "        selected_features = ['PM2.5',\n",
    "        'NO2_PM2.5_Interact',\n",
    "        'relative_humidity_PM2.5_Interaction',\n",
    "        'Hour_PM2.5_Interaction',\n",
    "        'NO2',\n",
    "        'relative_humidity_NO2_Interaction',\n",
    "        'Hour_NO2_Interaction',\n",
    "        'soil_temperature_100_to_255cm',\n",
    "        'temperature_2m']\n",
    "\n",
    "        learn_features = data[['PM10'] + list(selected_features) ]\n",
    "        learn_features = learn_features.values\n",
    "\n",
    "        \n",
    "\n",
    "        pm10 = np.array(learn_features[:,0])\n",
    "    \n",
    "        pm10_normalized = pm_10_scaler.transform(pm10.reshape(-1, 1))\n",
    "\n",
    "        other = np.array(learn_features[:,1:])\n",
    "        other_normalized = other_scaler.transform(other)\n",
    "\n",
    "\n",
    "        normalized_data = np.column_stack([pm10_normalized, other_normalized])\n",
    "\n",
    "        X_predict = normalized_data   \t\n",
    "       \n",
    "        X_predict = X_predict.reshape(1, X_predict.shape[1], X_predict.shape[0])\n",
    "       \n",
    "\n",
    "        prediction = model.predict(X_predict)\n",
    "        prediction =  pm_10_scaler.inverse_transform(prediction)\n",
    "        \n",
    "\n",
    "        return {'prediction': prediction.tolist()}\n",
    "    except Exception as e:\n",
    "        return {'error': str(e)}, 400"
   ]
  },
  {
   "cell_type": "code",
   "execution_count": 24,
   "metadata": {},
   "outputs": [
    {
     "name": "stdout",
     "output_type": "stream",
     "text": [
      " * Serving Flask app '__main__'\n",
      " * Debug mode: off\n"
     ]
    },
    {
     "name": "stderr",
     "output_type": "stream",
     "text": [
      "WARNING: This is a development server. Do not use it in a production deployment. Use a production WSGI server instead.\n",
      " * Running on all addresses (0.0.0.0)\n",
      " * Running on http://127.0.0.1:123\n",
      " * Running on http://164.8.204.199:123\n",
      "Press CTRL+C to quit\n"
     ]
    }
   ],
   "source": [
    "app = Flask(__name__)\n",
    "\n",
    "\n",
    "@app.route('/predict', methods=['POST'])\n",
    "def predict_air():\n",
    "    data = request.get_json()\n",
    "    result = predict(data)\n",
    "    return jsonify(result)\n",
    "\n",
    "\n",
    "if __name__ == '__main__':\n",
    "    app.run(host='0.0.0.0', port=123)"
   ]
  }
 ],
 "metadata": {
  "kernelspec": {
   "display_name": "tensor2",
   "language": "python",
   "name": "python3"
  },
  "language_info": {
   "codemirror_mode": {
    "name": "ipython",
    "version": 3
   },
   "file_extension": ".py",
   "mimetype": "text/x-python",
   "name": "python",
   "nbconvert_exporter": "python",
   "pygments_lexer": "ipython3",
   "version": "3.10.13"
  }
 },
 "nbformat": 4,
 "nbformat_minor": 2
}
